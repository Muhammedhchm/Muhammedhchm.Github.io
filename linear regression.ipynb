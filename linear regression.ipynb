{
 "cells": [
  {
   "cell_type": "code",
   "execution_count": 23,
   "id": "df5fcb60-6f35-49e4-b9d1-c3e0d9362d25",
   "metadata": {},
   "outputs": [],
   "source": [
    "import pandas as pd\n",
    "from pandas import DataFrame\n",
    "import matplotlib.pyplot"
   ]
  },
  {
   "cell_type": "code",
   "execution_count": 4,
   "id": "16c6447e-5140-4744-9e13-8d3a4ba7a873",
   "metadata": {},
   "outputs": [],
   "source": [
    "Data = pd.read_csv(\"cost_revenue clean.csv\")"
   ]
  },
  {
   "cell_type": "code",
   "execution_count": 5,
   "id": "816b5ab7-7471-4a85-88c2-a734ee3628cd",
   "metadata": {},
   "outputs": [
    {
     "data": {
      "text/html": [
       "<div>\n",
       "<style scoped>\n",
       "    .dataframe tbody tr th:only-of-type {\n",
       "        vertical-align: middle;\n",
       "    }\n",
       "\n",
       "    .dataframe tbody tr th {\n",
       "        vertical-align: top;\n",
       "    }\n",
       "\n",
       "    .dataframe thead th {\n",
       "        text-align: right;\n",
       "    }\n",
       "</style>\n",
       "<table border=\"1\" class=\"dataframe\">\n",
       "  <thead>\n",
       "    <tr style=\"text-align: right;\">\n",
       "      <th></th>\n",
       "      <th>Rank</th>\n",
       "      <th>Production Budget ($)</th>\n",
       "      <th>Worldwide Gross ($)</th>\n",
       "      <th>Domestic Gross ($)</th>\n",
       "    </tr>\n",
       "  </thead>\n",
       "  <tbody>\n",
       "    <tr>\n",
       "      <th>count</th>\n",
       "      <td>4879.000000</td>\n",
       "      <td>4.879000e+03</td>\n",
       "      <td>4.879000e+03</td>\n",
       "      <td>4.879000e+03</td>\n",
       "    </tr>\n",
       "    <tr>\n",
       "      <th>mean</th>\n",
       "      <td>2542.442509</td>\n",
       "      <td>3.355346e+07</td>\n",
       "      <td>9.788857e+07</td>\n",
       "      <td>4.556276e+07</td>\n",
       "    </tr>\n",
       "    <tr>\n",
       "      <th>std</th>\n",
       "      <td>1514.266274</td>\n",
       "      <td>4.154167e+07</td>\n",
       "      <td>1.746036e+08</td>\n",
       "      <td>6.797272e+07</td>\n",
       "    </tr>\n",
       "    <tr>\n",
       "      <th>min</th>\n",
       "      <td>1.000000</td>\n",
       "      <td>1.100000e+03</td>\n",
       "      <td>4.010000e+02</td>\n",
       "      <td>3.880000e+02</td>\n",
       "    </tr>\n",
       "    <tr>\n",
       "      <th>25%</th>\n",
       "      <td>1230.000000</td>\n",
       "      <td>6.500000e+06</td>\n",
       "      <td>8.036698e+06</td>\n",
       "      <td>4.291514e+06</td>\n",
       "    </tr>\n",
       "    <tr>\n",
       "      <th>50%</th>\n",
       "      <td>2490.000000</td>\n",
       "      <td>2.000000e+07</td>\n",
       "      <td>3.455742e+07</td>\n",
       "      <td>2.180030e+07</td>\n",
       "    </tr>\n",
       "    <tr>\n",
       "      <th>75%</th>\n",
       "      <td>3813.500000</td>\n",
       "      <td>4.475000e+07</td>\n",
       "      <td>1.076746e+08</td>\n",
       "      <td>5.742777e+07</td>\n",
       "    </tr>\n",
       "    <tr>\n",
       "      <th>max</th>\n",
       "      <td>5391.000000</td>\n",
       "      <td>4.250000e+08</td>\n",
       "      <td>2.783919e+09</td>\n",
       "      <td>9.366622e+08</td>\n",
       "    </tr>\n",
       "  </tbody>\n",
       "</table>\n",
       "</div>"
      ],
      "text/plain": [
       "              Rank  Production Budget ($)  Worldwide Gross ($)  \\\n",
       "count  4879.000000           4.879000e+03         4.879000e+03   \n",
       "mean   2542.442509           3.355346e+07         9.788857e+07   \n",
       "std    1514.266274           4.154167e+07         1.746036e+08   \n",
       "min       1.000000           1.100000e+03         4.010000e+02   \n",
       "25%    1230.000000           6.500000e+06         8.036698e+06   \n",
       "50%    2490.000000           2.000000e+07         3.455742e+07   \n",
       "75%    3813.500000           4.475000e+07         1.076746e+08   \n",
       "max    5391.000000           4.250000e+08         2.783919e+09   \n",
       "\n",
       "       Domestic Gross ($)  \n",
       "count        4.879000e+03  \n",
       "mean         4.556276e+07  \n",
       "std          6.797272e+07  \n",
       "min          3.880000e+02  \n",
       "25%          4.291514e+06  \n",
       "50%          2.180030e+07  \n",
       "75%          5.742777e+07  \n",
       "max          9.366622e+08  "
      ]
     },
     "execution_count": 5,
     "metadata": {},
     "output_type": "execute_result"
    }
   ],
   "source": [
    "Data.describe()"
   ]
  },
  {
   "cell_type": "code",
   "execution_count": 20,
   "id": "5b8a8549-00d4-4c86-bed4-858ad168ba7f",
   "metadata": {},
   "outputs": [],
   "source": [
    "x = DataFrame(Data , columns = [\"Production Budget ($)\"])\n",
    "y = DataFrame(Data , columns = [\"Worldwide Gross ($)\"])"
   ]
  },
  {
   "cell_type": "code",
   "execution_count": 24,
   "id": "f8e6157e-0b9d-4c2d-895d-6f9b338d7f8c",
   "metadata": {},
   "outputs": [
    {
     "data": {
      "text/plain": [
       "<matplotlib.collections.PathCollection at 0x28b014d1810>"
      ]
     },
     "execution_count": 24,
     "metadata": {},
     "output_type": "execute_result"
    },
    {
     "data": {
      "image/png": "[encoded data removed]",
      "text/plain": [
       "<Figure size 640x480 with 1 Axes>"
      ]
     },
     "metadata": {},
     "output_type": "display_data"
    }
   ],
   "source": [
    "matplotlib.pyplot.scatter(x,y)"
   ]
  },
  {
   "cell_type": "code",
   "execution_count": null,
   "id": "99ce6560-d520-4e02-aa4f-d05ebba8ec92",
   "metadata": {},
   "outputs": [],
   "source": []
  }
 ],
 "metadata": {
  "kernelspec": {
   "display_name": "Python 3 (ipykernel)",
   "language": "python",
   "name": "python3"
  },
  "language_info": {
   "codemirror_mode": {
    "name": "ipython",
    "version": 3
   },
   "file_extension": ".py",
   "mimetype": "text/x-python",
   "name": "python",
   "nbconvert_exporter": "python",
   "pygments_lexer": "ipython3",
   "version": "3.11.7"
  }
 },
 "nbformat": 4,
 "nbformat_minor": 5
}
